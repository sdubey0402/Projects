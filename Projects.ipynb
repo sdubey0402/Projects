{
 "cells": [
  {
   "cell_type": "code",
   "execution_count": null,
   "id": "2bca30e1-ea34-4b99-a17b-4c86237c214e",
   "metadata": {},
   "outputs": [
    {
     "name": "stdin",
     "output_type": "stream",
     "text": [
      "Enter the name:  ayusgi\n"
     ]
    },
    {
     "name": "stdout",
     "output_type": "stream",
     "text": [
      "press 1 for normal type seat and 2 for recliner\n"
     ]
    },
    {
     "name": "stdin",
     "output_type": "stream",
     "text": [
      "Press 1 or 2:  1\n",
      "Enter the no of seats:  2\n",
      "do you want to add a combo of Popcorn+Cold drink of 150 Rs. Only.  no\n"
     ]
    },
    {
     "name": "stdout",
     "output_type": "stream",
     "text": [
      "**************************************************\n",
      "Your total Bill is:  350\n",
      "Available seats are:  198\n",
      "Enjoy the Movie!\n",
      "**************************************************\n"
     ]
    }
   ],
   "source": [
    "# Movie Ticket Booking Reservarion System\n",
    "# Normal seats are 100\n",
    "# Recliner seats are 100\n",
    "nseats=200\n",
    "amount=0\n",
    "normal=150\n",
    "recliner=150\n",
    "while True:\n",
    "            name=input(\"Enter the name: \")\n",
    "            print(\"\"\"press 1 for normal type seat and 2 for recliner\"\"\")\n",
    "            seat_type=int(input(\"Press 1 or 2: \"))\n",
    "            seat=int(input(\"Enter the no of seats: \"))\n",
    "            combo=input(\"do you want to add a combo of Popcorn+Cold drink of 150 Rs. Only. \").title()\n",
    "            if nseats>=seat:\n",
    "                nseats-=seat\n",
    "                if seat_type==1:\n",
    "                    if combo==\"Yes\" or combo ==\"Y\":\n",
    "                        amount=100*seat+normal\n",
    "                        print(\"*\"*50)\n",
    "                        print(\"Your total Bill is: \",amount)\n",
    "                        print(\"Available seats are: \",nseats)\n",
    "                        print(\"Enjoy the Movie!\")\n",
    "                        print(\"*\"*50) \n",
    "                    elif combo==\"No\" or combo == \"N\":\n",
    "                        amount=100*seat\n",
    "                        print(\"*\"*50)\n",
    "                        print(\"Your total Bill is: \",amount)\n",
    "                        print(\"Available seats are: \",nseats)\n",
    "                        print(\"Enjoy the Movie!\")\n",
    "                        print(\"*\"*50)                    \n",
    "                elif seat_type==2:\n",
    "                    if combo==\"Yes\" or combo ==\"Y\":\n",
    "                        amount=150*seat+recliner\n",
    "                        print(\"*\"*50)\n",
    "                        print(\"Your total Bill is: \",amount)\n",
    "                        print(\"Available seats are: \",nseats)\n",
    "                        print(\"Enjoy the Movie!\")\n",
    "                        print(\"*\"*50)\n",
    "                    elif combo==\"No\" or \"N\":\n",
    "                        amount=150*seat\n",
    "                        print(\"*\"*50)\n",
    "                        print(\"Your total Bill is: \",amount)\n",
    "                        print(\"Available seats are: \",nseats)\n",
    "                        print(\"Enjoy the \")\n",
    "                        print(\"*\"*50)        \n",
    "            else:\n",
    "                break"
   ]
  },
  {
   "cell_type": "code",
   "execution_count": null,
   "id": "5fda01af-4c68-45e6-9c6e-e5fffcc6d7f4",
   "metadata": {},
   "outputs": [],
   "source": []
  }
 ],
 "metadata": {
  "kernelspec": {
   "display_name": "Python 3 (ipykernel)",
   "language": "python",
   "name": "python3"
  },
  "language_info": {
   "codemirror_mode": {
    "name": "ipython",
    "version": 3
   },
   "file_extension": ".py",
   "mimetype": "text/x-python",
   "name": "python",
   "nbconvert_exporter": "python",
   "pygments_lexer": "ipython3",
   "version": "3.11.6"
  }
 },
 "nbformat": 4,
 "nbformat_minor": 5
}
