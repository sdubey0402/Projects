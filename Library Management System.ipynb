{
 "cells": [
  {
   "cell_type": "markdown",
   "id": "f2fb952f-c275-4d3d-b972-e21f114580fb",
   "metadata": {},
   "source": [
    "Library Management System"
   ]
  },
  {
   "cell_type": "raw",
   "id": "4963149a-83d6-44e7-b0fb-9c2a4c0478ff",
   "metadata": {},
   "source": [
    "Create a Library Management System\n",
    "\n",
    "1. Username Password\n",
    "2. total availables books (math - 0)\n",
    "3. borrow books\n",
    "4. return books\n",
    "5. display borrowed books details along with person's name. \n",
    "\n",
    "increase and decrease the count of books accordingly."
   ]
  },
  {
   "cell_type": "code",
   "execution_count": null,
   "id": "a98c75c2-6477-45a5-a864-721b9e862d1e",
   "metadata": {},
   "outputs": [],
   "source": []
  },
  {
   "cell_type": "code",
   "execution_count": 2,
   "id": "54f50d13-1f00-4a9d-959b-aee23b62d214",
   "metadata": {},
   "outputs": [
    {
     "name": "stdout",
     "output_type": "stream",
     "text": [
      "Welcome to Library Management System\n",
      "\n",
      "Enter your choice 1 to borrow\n",
      "Enter your choice 2 to return\n"
     ]
    },
    {
     "name": "stdin",
     "output_type": "stream",
     "text": [
      "Enter your choice between 1 and 2:  1\n",
      "Enter the username:  library\n",
      "Enter the password lib@1234\n"
     ]
    },
    {
     "name": "stdout",
     "output_type": "stream",
     "text": [
      "Login successful\n"
     ]
    },
    {
     "name": "stdin",
     "output_type": "stream",
     "text": [
      "Enter your name here:  saurabh\n",
      "Enter the book name:  hindi\n",
      "add more books (Yes/No):  yes\n"
     ]
    },
    {
     "name": "stdout",
     "output_type": "stream",
     "text": [
      "{'Maths': 20, 'English': 15, 'Hindi': 24, 'Science': 10}\n",
      "{'Saurabh': ['Hindi']}\n"
     ]
    },
    {
     "name": "stdin",
     "output_type": "stream",
     "text": [
      "Enter the book name:  english\n",
      "add more books (Yes/No):  yes\n"
     ]
    },
    {
     "name": "stdout",
     "output_type": "stream",
     "text": [
      "{'Maths': 20, 'English': 14, 'Hindi': 24, 'Science': 10}\n",
      "{'Saurabh': ['Hindi', 'English']}\n"
     ]
    },
    {
     "name": "stdin",
     "output_type": "stream",
     "text": [
      "Enter the book name:  science\n",
      "add more books (Yes/No):  no\n",
      "Enter your choice between 1 and 2:  2\n",
      "Enter the username:  library\n",
      "Enter the password lib@1234\n"
     ]
    },
    {
     "name": "stdout",
     "output_type": "stream",
     "text": [
      "Login successful\n"
     ]
    },
    {
     "name": "stdin",
     "output_type": "stream",
     "text": [
      "Enter your name here:  saurabh\n",
      "Enter the book name:  hindi\n"
     ]
    },
    {
     "name": "stdout",
     "output_type": "stream",
     "text": [
      "{'Saurabh': ['Hindi', 'English', 'Science']}\n",
      "{'Maths': 20, 'English': 14, 'Hindi': 25, 'Science': 9}\n",
      "You have successfully returned the book:\n"
     ]
    },
    {
     "name": "stdin",
     "output_type": "stream",
     "text": [
      "Enter your choice between 1 and 2:  2\n",
      "Enter the username:  librar\n"
     ]
    },
    {
     "name": "stdout",
     "output_type": "stream",
     "text": [
      "Incorrect userid\n"
     ]
    }
   ],
   "source": [
    "books={\"Maths\":20,\"English\":15,\"Hindi\":25,\"Science\":10}\n",
    "bb={}\n",
    "\n",
    "print(\"\"\"Welcome to Library Management System\"\"\")\n",
    "print()\n",
    "print(\"\"\"Enter your choice 1 to borrow\n",
    "Enter your choice 2 to return\"\"\")\n",
    "\n",
    "#common password for all\n",
    "\n",
    "user_id=\"library\"\n",
    "password=\"lib@1234\"\n",
    "\n",
    "while True:\n",
    "    choice=int(input(\"Enter your choice between 1 and 2: \"))\n",
    "    if choice==1:\n",
    "        usr_id=input(\"Enter the username: \")\n",
    "        if usr_id==user_id:\n",
    "            pwd=input('Enter the password')\n",
    "            if pwd==password:\n",
    "                print(\"Login successful\")\n",
    "            else:\n",
    "                print(\"Incorrect Password\")\n",
    "                break\n",
    "        else:\n",
    "            print(\"Incorrect userid\")\n",
    "            break\n",
    "        Name=input(\"Enter your name here: \").title()\n",
    "        n_books=[]\n",
    "        while True:\n",
    "            book=input(\"Enter the book name: \").title()\n",
    "            books[book]-=1\n",
    "            n_books.append(book)\n",
    "            bb[Name]=n_books\n",
    "            repeat=input(\"add more books (Yes/No): \").title()\n",
    "            if repeat==\"No\":\n",
    "                break\n",
    "            print(books)\n",
    "            print(bb)\n",
    "    elif choice==2:\n",
    "        usr_id=input(\"Enter the username: \")\n",
    "        if usr_id==user_id:\n",
    "            pwd=input('Enter the password')\n",
    "            if pwd==password:\n",
    "                print(\"Login successful\")\n",
    "            else:\n",
    "                print(\"Incorrect Password\")\n",
    "                break\n",
    "        else:\n",
    "            print(\"Incorrect userid\")\n",
    "            break\n",
    "        Name=input(\"Enter your name here: \").title()\n",
    "        book=input(\"Enter the book name: \").title()\n",
    "        books[book]+=1\n",
    "        print(bb)\n",
    "        print(books)\n",
    "        del bb[Name]\n",
    "        print(\"You have successfully returned the book:\")\n"
   ]
  },
  {
   "cell_type": "code",
   "execution_count": null,
   "id": "2e120918-5c55-42f7-86b3-38cf02c33f86",
   "metadata": {},
   "outputs": [],
   "source": []
  },
  {
   "cell_type": "code",
   "execution_count": null,
   "id": "59e8cc86-2a79-4aad-81ff-f522e0db1b39",
   "metadata": {},
   "outputs": [],
   "source": []
  },
  {
   "cell_type": "code",
   "execution_count": null,
   "id": "2d763c83-0fd9-41af-ac17-e6c16cb23907",
   "metadata": {},
   "outputs": [],
   "source": []
  }
 ],
 "metadata": {
  "kernelspec": {
   "display_name": "Python 3 (ipykernel)",
   "language": "python",
   "name": "python3"
  },
  "language_info": {
   "codemirror_mode": {
    "name": "ipython",
    "version": 3
   },
   "file_extension": ".py",
   "mimetype": "text/x-python",
   "name": "python",
   "nbconvert_exporter": "python",
   "pygments_lexer": "ipython3",
   "version": "3.11.6"
  }
 },
 "nbformat": 4,
 "nbformat_minor": 5
}
